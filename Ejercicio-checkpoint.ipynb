{
 "cells": [
  {
   "cell_type": "code",
   "execution_count": 2,
   "id": "3fa31950-dafc-4c2b-8de4-31caf5576c8a",
   "metadata": {},
   "outputs": [],
   "source": [
    "#Se importa la libreria pandas\n",
    "import pandas as pd\n",
    "#Se importa la libreria de matplotlib\n",
    "import matplotlib.pyplot as plt"
   ]
  },
  {
   "cell_type": "code",
   "execution_count": 3,
   "id": "0375cede-46ef-4c5e-a420-47671d867464",
   "metadata": {},
   "outputs": [],
   "source": [
    "#Se le el archivo csv y se guarda en la variable \n",
    "at = pd.read_csv('airports.csv')\n",
    "#Se crea el DataFrame\n",
    "airport=pd.DataFrame(at)"
   ]
  },
  {
   "cell_type": "code",
   "execution_count": 4,
   "id": "b2add957-490b-4929-901f-d4b5aea08a52",
   "metadata": {},
   "outputs": [
    {
     "name": "stdout",
     "output_type": "stream",
     "text": [
      "<class 'pandas.core.frame.DataFrame'>\n",
      "RangeIndex: 67312 entries, 0 to 67311\n",
      "Data columns (total 18 columns):\n",
      " #   Column             Non-Null Count  Dtype  \n",
      "---  ------             --------------  -----  \n",
      " 0   id                 67312 non-null  int64  \n",
      " 1   ident              67311 non-null  object \n",
      " 2   type               67312 non-null  object \n",
      " 3   name               67312 non-null  object \n",
      " 4   latitude_deg       67312 non-null  float64\n",
      " 5   longitude_deg      67312 non-null  float64\n",
      " 6   elevation_ft       54335 non-null  float64\n",
      " 7   continent          34320 non-null  object \n",
      " 8   iso_country        67055 non-null  object \n",
      " 9   iso_region         67312 non-null  object \n",
      " 10  municipality       61781 non-null  object \n",
      " 11  scheduled_service  67312 non-null  object \n",
      " 12  gps_code           42618 non-null  object \n",
      " 13  iata_code          9244 non-null   object \n",
      " 14  local_code         32055 non-null  object \n",
      " 15  home_link          3300 non-null   object \n",
      " 16  wikipedia_link     10370 non-null  object \n",
      " 17  keywords           12367 non-null  object \n",
      "dtypes: float64(3), int64(1), object(14)\n",
      "memory usage: 9.2+ MB\n"
     ]
    }
   ],
   "source": [
    "#Se verifica la inforacion del DataFrame\n",
    "airport.info()"
   ]
  },
  {
   "cell_type": "code",
   "execution_count": 5,
   "id": "e50ee55c-c534-464e-9a85-ea6dd01d61bd",
   "metadata": {},
   "outputs": [
    {
     "name": "stdout",
     "output_type": "stream",
     "text": [
      "       id ident           type                                name  \\\n",
      "0    6523   00A       heliport                   Total Rf Heliport   \n",
      "1  323361  00AA  small_airport                Aero B Ranch Airport   \n",
      "2    6524  00AK  small_airport                        Lowell Field   \n",
      "3    6525  00AL  small_airport                        Epps Airpark   \n",
      "4    6526  00AR         closed  Newport Hospital & Clinic Heliport   \n",
      "\n",
      "   latitude_deg  longitude_deg  elevation_ft continent iso_country iso_region  \\\n",
      "0     40.070801     -74.933601          11.0       NaN          US      US-PA   \n",
      "1     38.704022    -101.473911        3435.0       NaN          US      US-KS   \n",
      "2     59.947733    -151.692524         450.0       NaN          US      US-AK   \n",
      "3     34.864799     -86.770302         820.0       NaN          US      US-AL   \n",
      "4     35.608700     -91.254898         237.0       NaN          US      US-AR   \n",
      "\n",
      "   municipality scheduled_service gps_code iata_code local_code home_link  \\\n",
      "0      Bensalem                no      00A       NaN        00A       NaN   \n",
      "1         Leoti                no     00AA       NaN       00AA       NaN   \n",
      "2  Anchor Point                no     00AK       NaN       00AK       NaN   \n",
      "3       Harvest                no     00AL       NaN       00AL       NaN   \n",
      "4       Newport                no      NaN       NaN        NaN       NaN   \n",
      "\n",
      "  wikipedia_link keywords  \n",
      "0            NaN      NaN  \n",
      "1            NaN      NaN  \n",
      "2            NaN      NaN  \n",
      "3            NaN      NaN  \n",
      "4            NaN     00AR  \n"
     ]
    }
   ],
   "source": [
    "#Se imprime las primeras filas del DataFrame\n",
    "print(airport.head())"
   ]
  },
  {
   "cell_type": "code",
   "execution_count": 6,
   "id": "d31095d7-4283-4ac6-8130-45461cd30f32",
   "metadata": {},
   "outputs": [],
   "source": [
    "#Se gradan las columnas necesarias en la variable\n",
    "elevacion=airport[['name', 'elevation_ft', 'iso_country', 'type']]"
   ]
  },
  {
   "cell_type": "code",
   "execution_count": 7,
   "id": "a42d880f-f2b4-40c1-af55-7be3def707a1",
   "metadata": {},
   "outputs": [
    {
     "name": "stdout",
     "output_type": "stream",
     "text": [
      "                                 name  elevation_ft iso_country           type\n",
      "0                   Total Rf Heliport          11.0          US       heliport\n",
      "1                Aero B Ranch Airport        3435.0          US  small_airport\n",
      "2                        Lowell Field         450.0          US  small_airport\n",
      "3                        Epps Airpark         820.0          US  small_airport\n",
      "4  Newport Hospital & Clinic Heliport         237.0          US         closed\n"
     ]
    }
   ],
   "source": [
    "#Se imprime las fiemras filas\n",
    "print(elevacion.head())"
   ]
  },
  {
   "cell_type": "code",
   "execution_count": 8,
   "id": "317052e5-9ce9-4395-839a-79ca484cde3a",
   "metadata": {},
   "outputs": [
    {
     "name": "stdout",
     "output_type": "stream",
     "text": [
      "name                0\n",
      "elevation_ft    12977\n",
      "iso_country       257\n",
      "type                0\n",
      "dtype: int64\n"
     ]
    }
   ],
   "source": [
    "#Verificamos si valtan valores\n",
    "print(elevacion.isna().sum())"
   ]
  },
  {
   "cell_type": "code",
   "execution_count": 9,
   "id": "ea260c11-cbbc-43ad-8d77-94bc7f3d8c80",
   "metadata": {},
   "outputs": [
    {
     "data": {
      "image/png": "[encoded data removed]",
      "text/plain": [
       "<Figure size 432x288 with 1 Axes>"
      ]
     },
     "metadata": {
      "needs_background": "light"
     },
     "output_type": "display_data"
    }
   ],
   "source": [
    "#Grafica de valores faltanes\n",
    "elevacion.isna().sum().plot(kind='bar')\n",
    "plt.show()"
   ]
  },
  {
   "cell_type": "code",
   "execution_count": 10,
   "id": "dd115130-e03d-4d8b-a532-22f333db5355",
   "metadata": {},
   "outputs": [],
   "source": [
    "#Eliminar filas de valores faltantes\n",
    "elevacion=elevacion.dropna()"
   ]
  },
  {
   "cell_type": "code",
   "execution_count": 11,
   "id": "be0c5143-82be-4f28-9f48-eb5b0164ef8a",
   "metadata": {},
   "outputs": [
    {
     "name": "stdout",
     "output_type": "stream",
     "text": [
      "                                     name  elevation_ft iso_country  \\\n",
      "0                       Total Rf Heliport          11.0          US   \n",
      "1                    Aero B Ranch Airport        3435.0          US   \n",
      "2                            Lowell Field         450.0          US   \n",
      "3                            Epps Airpark         820.0          US   \n",
      "4      Newport Hospital & Clinic Heliport         237.0          US   \n",
      "...                                   ...           ...         ...   \n",
      "67307                     Sealand Helipad          40.0          GB   \n",
      "67308           Glorioso Islands Airstrip          11.0          TF   \n",
      "67309               Fainting Goat Airport         690.0          US   \n",
      "67310              Scandium City Heliport           4.0          CA   \n",
      "67311              Satsuma Iōjima Airport         338.0          JP   \n",
      "\n",
      "                type  \n",
      "0           heliport  \n",
      "1      small_airport  \n",
      "2      small_airport  \n",
      "3      small_airport  \n",
      "4             closed  \n",
      "...              ...  \n",
      "67307       heliport  \n",
      "67308  small_airport  \n",
      "67309  small_airport  \n",
      "67310         closed  \n",
      "67311  small_airport  \n",
      "\n",
      "[54096 rows x 4 columns]\n"
     ]
    }
   ],
   "source": [
    "print(elevacion)"
   ]
  },
  {
   "cell_type": "code",
   "execution_count": 12,
   "id": "688dddff-6b99-458b-86a5-bac6b221e00e",
   "metadata": {},
   "outputs": [
    {
     "data": {
      "text/plain": [
       "US    25265\n",
       "BR     5788\n",
       "CA     2348\n",
       "MX     1574\n",
       "AU     1062\n",
       "      ...  \n",
       "GI        1\n",
       "NR        1\n",
       "BM        1\n",
       "NF        1\n",
       "GS        1\n",
       "Name: iso_country, Length: 244, dtype: int64"
      ]
     },
     "execution_count": 12,
     "metadata": {},
     "output_type": "execute_result"
    }
   ],
   "source": [
    "#Cuantas veces aparece las palabras\n",
    "elevacion['iso_country'].value_counts()"
   ]
  },
  {
   "cell_type": "code",
   "execution_count": 13,
   "id": "6ca23986-0685-49ac-bb6c-669b4aeb7782",
   "metadata": {},
   "outputs": [
    {
     "name": "stdout",
     "output_type": "stream",
     "text": [
      "                                 name  elevation_ft iso_country           type\n",
      "0                   Total Rf Heliport          11.0          US       heliport\n",
      "1                Aero B Ranch Airport        3435.0          US  small_airport\n",
      "2                        Lowell Field         450.0          US  small_airport\n",
      "3                        Epps Airpark         820.0          US  small_airport\n",
      "4  Newport Hospital & Clinic Heliport         237.0          US         closed\n",
      "5                      Fulton Airport        1100.0          US  small_airport\n",
      "6                      Cordes Airport        3810.0          US  small_airport\n",
      "7             Goldstone (GTS) Airport        3038.0          US  small_airport\n",
      "                                            name  elevation_ft iso_country  \\\n",
      "11103        Mar de Cortés International Airport          71.0          MX   \n",
      "12826               Bahía de los Ángeles Airport          34.0          MX   \n",
      "12923                     Muñoz Landing Airstrip          33.0          MX   \n",
      "18315             Ejidal de San Ignacio Airstrip         575.0          MX   \n",
      "26275                    Helipuerto Metropolitan        6965.0          MX   \n",
      "37828  Francisco Primo de Verdad y Ramos Airport        6227.0          MX   \n",
      "39114                        Isla Cedros Airport          98.0          MX   \n",
      "39115                      El Durangueño Airport        8202.0          MX   \n",
      "\n",
      "                type  \n",
      "11103  small_airport  \n",
      "12826  small_airport  \n",
      "12923  small_airport  \n",
      "18315  small_airport  \n",
      "26275       heliport  \n",
      "37828  small_airport  \n",
      "39114  small_airport  \n",
      "39115  small_airport  \n"
     ]
    }
   ],
   "source": [
    "#Extrer datos de US y MX\n",
    "levacion_US=elevacion.loc[elevacion.iso_country=='US']\n",
    "print(levacion_US.head(8))\n",
    "levacion_MX=elevacion.loc[elevacion.iso_country=='MX']\n",
    "print(levacion_MX.head(8))"
   ]
  },
  {
   "cell_type": "code",
   "execution_count": 14,
   "id": "9568c0a0",
   "metadata": {},
   "outputs": [
    {
     "name": "stdout",
     "output_type": "stream",
     "text": [
      "                       name  elevation_ft iso_country           type\n",
      "1      Aero B Ranch Airport        3435.0          US  small_airport\n",
      "2              Lowell Field         450.0          US  small_airport\n",
      "3              Epps Airpark         820.0          US  small_airport\n",
      "5            Fulton Airport        1100.0          US  small_airport\n",
      "6            Cordes Airport        3810.0          US  small_airport\n",
      "7   Goldstone (GTS) Airport        3038.0          US  small_airport\n",
      "8       Williams Ag Airport          87.0          US  small_airport\n",
      "11      Grass Patch Airport          53.0          US  small_airport\n",
      "                                            name  elevation_ft iso_country  \\\n",
      "11103        Mar de Cortés International Airport          71.0          MX   \n",
      "12826               Bahía de los Ángeles Airport          34.0          MX   \n",
      "12923                     Muñoz Landing Airstrip          33.0          MX   \n",
      "18315             Ejidal de San Ignacio Airstrip         575.0          MX   \n",
      "37828  Francisco Primo de Verdad y Ramos Airport        6227.0          MX   \n",
      "39114                        Isla Cedros Airport          98.0          MX   \n",
      "39115                      El Durangueño Airport        8202.0          MX   \n",
      "39116                         Bacubirito Airport         591.0          MX   \n",
      "\n",
      "                type  \n",
      "11103  small_airport  \n",
      "12826  small_airport  \n",
      "12923  small_airport  \n",
      "18315  small_airport  \n",
      "37828  small_airport  \n",
      "39114  small_airport  \n",
      "39115  small_airport  \n",
      "39116  small_airport  \n"
     ]
    }
   ],
   "source": [
    "#Seleccionar solo small airport\n",
    "levacion_US=levacion_US.loc[levacion_US.type=='small_airport']\n",
    "print(levacion_US.head(8))\n",
    "levacion_MX=levacion_MX.loc[levacion_MX.type=='small_airport']\n",
    "print(levacion_MX.head(8))"
   ]
  },
  {
   "cell_type": "code",
   "execution_count": 20,
   "id": "e1c822a1",
   "metadata": {},
   "outputs": [
    {
     "name": "stdout",
     "output_type": "stream",
     "text": [
      "   level_0  index                            name  elevation_ft iso_country  \\\n",
      "0        0  33627             Lake County Airport        9927.0          US   \n",
      "1        1  57082            Silver Heels Airport        9600.0          US   \n",
      "2        2  17558         True Grit South Airport        9580.0          US   \n",
      "4        4   2769                       Lux Field        9300.0          US   \n",
      "3        3  16054            Castle Lakes Airport        9300.0          US   \n",
      "5        5  62248          Tavaputs Ranch Airport        9200.0          US   \n",
      "6        6  35842      Telluride Regional Airport        9070.0          US   \n",
      "7        7  17474  Granite Mountain Lodge Airport        9000.0          US   \n",
      "\n",
      "            type  \n",
      "0  small_airport  \n",
      "1  small_airport  \n",
      "2  small_airport  \n",
      "4  small_airport  \n",
      "3  small_airport  \n",
      "5  small_airport  \n",
      "6  small_airport  \n",
      "7  small_airport  \n",
      "                                                    name  elevation_ft  \\\n",
      "40516                               Los Charcos Airstrip        8879.0   \n",
      "40284                                 Aerolandia Airport        8862.0   \n",
      "41163  Sindicato Nacional de Los Trabajadores de La E...        8553.0   \n",
      "41571                      San Miguel de Cruces Airstrip        8530.0   \n",
      "40537                                El Zorrillo Airport        8464.0   \n",
      "40403                                   El Salto Airport        8464.0   \n",
      "41584                        Mesa de San Rafael Airstrip        8396.0   \n",
      "41260                            Las Margaritas Airstrip        8268.0   \n",
      "\n",
      "      iso_country           type  \n",
      "40516          MX  small_airport  \n",
      "40284          MX  small_airport  \n",
      "41163          MX  small_airport  \n",
      "41571          MX  small_airport  \n",
      "40537          MX  small_airport  \n",
      "40403          MX  small_airport  \n",
      "41584          MX  small_airport  \n",
      "41260          MX  small_airport  \n"
     ]
    }
   ],
   "source": [
    "#Acomodor mayor elevacion US y MX\n",
    "levacion_US=levacion_US.sort_values(by=['elevation_ft'], ascending=False )\n",
    "print(levacion_US.head(8))\n",
    "levacion_MX=levacion_MX.sort_values(by=['elevation_ft'], ascending=False )\n",
    "print(levacion_MX.head(8))"
   ]
  },
  {
   "cell_type": "code",
   "execution_count": 28,
   "id": "b27d1aa5",
   "metadata": {},
   "outputs": [
    {
     "data": {
      "text/html": [
       "<div>\n",
       "<style scoped>\n",
       "    .dataframe tbody tr th:only-of-type {\n",
       "        vertical-align: middle;\n",
       "    }\n",
       "\n",
       "    .dataframe tbody tr th {\n",
       "        vertical-align: top;\n",
       "    }\n",
       "\n",
       "    .dataframe thead th {\n",
       "        text-align: right;\n",
       "    }\n",
       "</style>\n",
       "<table border=\"1\" class=\"dataframe\">\n",
       "  <thead>\n",
       "    <tr style=\"text-align: right;\">\n",
       "      <th></th>\n",
       "      <th>level_0</th>\n",
       "      <th>index</th>\n",
       "      <th>name</th>\n",
       "      <th>elevation_ft</th>\n",
       "      <th>iso_country</th>\n",
       "      <th>type</th>\n",
       "    </tr>\n",
       "  </thead>\n",
       "  <tbody>\n",
       "    <tr>\n",
       "      <th>0</th>\n",
       "      <td>0</td>\n",
       "      <td>40516</td>\n",
       "      <td>Los Charcos Airstrip</td>\n",
       "      <td>8879.0</td>\n",
       "      <td>MX</td>\n",
       "      <td>small_airport</td>\n",
       "    </tr>\n",
       "    <tr>\n",
       "      <th>1</th>\n",
       "      <td>1</td>\n",
       "      <td>40284</td>\n",
       "      <td>Aerolandia Airport</td>\n",
       "      <td>8862.0</td>\n",
       "      <td>MX</td>\n",
       "      <td>small_airport</td>\n",
       "    </tr>\n",
       "    <tr>\n",
       "      <th>2</th>\n",
       "      <td>2</td>\n",
       "      <td>41163</td>\n",
       "      <td>Sindicato Nacional de Los Trabajadores de La E...</td>\n",
       "      <td>8553.0</td>\n",
       "      <td>MX</td>\n",
       "      <td>small_airport</td>\n",
       "    </tr>\n",
       "    <tr>\n",
       "      <th>3</th>\n",
       "      <td>3</td>\n",
       "      <td>41571</td>\n",
       "      <td>San Miguel de Cruces Airstrip</td>\n",
       "      <td>8530.0</td>\n",
       "      <td>MX</td>\n",
       "      <td>small_airport</td>\n",
       "    </tr>\n",
       "    <tr>\n",
       "      <th>4</th>\n",
       "      <td>4</td>\n",
       "      <td>40537</td>\n",
       "      <td>El Zorrillo Airport</td>\n",
       "      <td>8464.0</td>\n",
       "      <td>MX</td>\n",
       "      <td>small_airport</td>\n",
       "    </tr>\n",
       "    <tr>\n",
       "      <th>...</th>\n",
       "      <td>...</td>\n",
       "      <td>...</td>\n",
       "      <td>...</td>\n",
       "      <td>...</td>\n",
       "      <td>...</td>\n",
       "      <td>...</td>\n",
       "    </tr>\n",
       "    <tr>\n",
       "      <th>1050</th>\n",
       "      <td>1050</td>\n",
       "      <td>41732</td>\n",
       "      <td>Tulum Naval Air Station</td>\n",
       "      <td>7.0</td>\n",
       "      <td>MX</td>\n",
       "      <td>small_airport</td>\n",
       "    </tr>\n",
       "    <tr>\n",
       "      <th>1051</th>\n",
       "      <td>1051</td>\n",
       "      <td>40117</td>\n",
       "      <td>Puerto Adolfo López Mateos Airstrip</td>\n",
       "      <td>6.0</td>\n",
       "      <td>MX</td>\n",
       "      <td>small_airport</td>\n",
       "    </tr>\n",
       "    <tr>\n",
       "      <th>1052</th>\n",
       "      <td>1052</td>\n",
       "      <td>40107</td>\n",
       "      <td>Puerto Cortés Airstrip</td>\n",
       "      <td>6.0</td>\n",
       "      <td>MX</td>\n",
       "      <td>small_airport</td>\n",
       "    </tr>\n",
       "    <tr>\n",
       "      <th>1053</th>\n",
       "      <td>1053</td>\n",
       "      <td>40082</td>\n",
       "      <td>Alfonsinas Airstrip</td>\n",
       "      <td>6.0</td>\n",
       "      <td>MX</td>\n",
       "      <td>small_airport</td>\n",
       "    </tr>\n",
       "    <tr>\n",
       "      <th>1054</th>\n",
       "      <td>1054</td>\n",
       "      <td>41038</td>\n",
       "      <td>El Limón Airport</td>\n",
       "      <td>6.0</td>\n",
       "      <td>MX</td>\n",
       "      <td>small_airport</td>\n",
       "    </tr>\n",
       "  </tbody>\n",
       "</table>\n",
       "<p>1055 rows × 6 columns</p>\n",
       "</div>"
      ],
      "text/plain": [
       "      level_0  index                                               name  \\\n",
       "0           0  40516                               Los Charcos Airstrip   \n",
       "1           1  40284                                 Aerolandia Airport   \n",
       "2           2  41163  Sindicato Nacional de Los Trabajadores de La E...   \n",
       "3           3  41571                      San Miguel de Cruces Airstrip   \n",
       "4           4  40537                                El Zorrillo Airport   \n",
       "...       ...    ...                                                ...   \n",
       "1050     1050  41732                            Tulum Naval Air Station   \n",
       "1051     1051  40117                Puerto Adolfo López Mateos Airstrip   \n",
       "1052     1052  40107                             Puerto Cortés Airstrip   \n",
       "1053     1053  40082                                Alfonsinas Airstrip   \n",
       "1054     1054  41038                                   El Limón Airport   \n",
       "\n",
       "      elevation_ft iso_country           type  \n",
       "0           8879.0          MX  small_airport  \n",
       "1           8862.0          MX  small_airport  \n",
       "2           8553.0          MX  small_airport  \n",
       "3           8530.0          MX  small_airport  \n",
       "4           8464.0          MX  small_airport  \n",
       "...            ...         ...            ...  \n",
       "1050           7.0          MX  small_airport  \n",
       "1051           6.0          MX  small_airport  \n",
       "1052           6.0          MX  small_airport  \n",
       "1053           6.0          MX  small_airport  \n",
       "1054           6.0          MX  small_airport  \n",
       "\n",
       "[1055 rows x 6 columns]"
      ]
     },
     "execution_count": 28,
     "metadata": {},
     "output_type": "execute_result"
    }
   ],
   "source": [
    "#Eliminar acomodar index\n",
    "levacion_MX=levacion_MX.reset_index(drop=True)\n",
    "levacion_MX"
   ]
  },
  {
   "cell_type": "code",
   "execution_count": 29,
   "id": "e5fee471",
   "metadata": {},
   "outputs": [
    {
     "data": {
      "text/html": [
       "<div>\n",
       "<style scoped>\n",
       "    .dataframe tbody tr th:only-of-type {\n",
       "        vertical-align: middle;\n",
       "    }\n",
       "\n",
       "    .dataframe tbody tr th {\n",
       "        vertical-align: top;\n",
       "    }\n",
       "\n",
       "    .dataframe thead th {\n",
       "        text-align: right;\n",
       "    }\n",
       "</style>\n",
       "<table border=\"1\" class=\"dataframe\">\n",
       "  <thead>\n",
       "    <tr style=\"text-align: right;\">\n",
       "      <th></th>\n",
       "      <th>level_0</th>\n",
       "      <th>index</th>\n",
       "      <th>name</th>\n",
       "      <th>elevation_ft</th>\n",
       "      <th>iso_country</th>\n",
       "      <th>type</th>\n",
       "    </tr>\n",
       "  </thead>\n",
       "  <tbody>\n",
       "    <tr>\n",
       "      <th>0</th>\n",
       "      <td>0</td>\n",
       "      <td>33627</td>\n",
       "      <td>Lake County Airport</td>\n",
       "      <td>9927.0</td>\n",
       "      <td>US</td>\n",
       "      <td>small_airport</td>\n",
       "    </tr>\n",
       "    <tr>\n",
       "      <th>1</th>\n",
       "      <td>1</td>\n",
       "      <td>57082</td>\n",
       "      <td>Silver Heels Airport</td>\n",
       "      <td>9600.0</td>\n",
       "      <td>US</td>\n",
       "      <td>small_airport</td>\n",
       "    </tr>\n",
       "    <tr>\n",
       "      <th>2</th>\n",
       "      <td>2</td>\n",
       "      <td>17558</td>\n",
       "      <td>True Grit South Airport</td>\n",
       "      <td>9580.0</td>\n",
       "      <td>US</td>\n",
       "      <td>small_airport</td>\n",
       "    </tr>\n",
       "    <tr>\n",
       "      <th>4</th>\n",
       "      <td>4</td>\n",
       "      <td>2769</td>\n",
       "      <td>Lux Field</td>\n",
       "      <td>9300.0</td>\n",
       "      <td>US</td>\n",
       "      <td>small_airport</td>\n",
       "    </tr>\n",
       "    <tr>\n",
       "      <th>3</th>\n",
       "      <td>3</td>\n",
       "      <td>16054</td>\n",
       "      <td>Castle Lakes Airport</td>\n",
       "      <td>9300.0</td>\n",
       "      <td>US</td>\n",
       "      <td>small_airport</td>\n",
       "    </tr>\n",
       "    <tr>\n",
       "      <th>...</th>\n",
       "      <td>...</td>\n",
       "      <td>...</td>\n",
       "      <td>...</td>\n",
       "      <td>...</td>\n",
       "      <td>...</td>\n",
       "      <td>...</td>\n",
       "    </tr>\n",
       "    <tr>\n",
       "      <th>13856</th>\n",
       "      <td>13856</td>\n",
       "      <td>17262</td>\n",
       "      <td>Heritage Field Airport</td>\n",
       "      <td>-24.0</td>\n",
       "      <td>US</td>\n",
       "      <td>small_airport</td>\n",
       "    </tr>\n",
       "    <tr>\n",
       "      <th>13857</th>\n",
       "      <td>13857</td>\n",
       "      <td>48152</td>\n",
       "      <td>Salton Sea Airport</td>\n",
       "      <td>-84.0</td>\n",
       "      <td>US</td>\n",
       "      <td>small_airport</td>\n",
       "    </tr>\n",
       "    <tr>\n",
       "      <th>13858</th>\n",
       "      <td>13858</td>\n",
       "      <td>31997</td>\n",
       "      <td>Brawley Municipal Airport</td>\n",
       "      <td>-128.0</td>\n",
       "      <td>US</td>\n",
       "      <td>small_airport</td>\n",
       "    </tr>\n",
       "    <tr>\n",
       "      <th>13859</th>\n",
       "      <td>13859</td>\n",
       "      <td>32120</td>\n",
       "      <td>Cliff Hatfield Memorial Airport</td>\n",
       "      <td>-182.0</td>\n",
       "      <td>US</td>\n",
       "      <td>small_airport</td>\n",
       "    </tr>\n",
       "    <tr>\n",
       "      <th>13860</th>\n",
       "      <td>13860</td>\n",
       "      <td>33475</td>\n",
       "      <td>Furnace Creek Airport</td>\n",
       "      <td>-210.0</td>\n",
       "      <td>US</td>\n",
       "      <td>small_airport</td>\n",
       "    </tr>\n",
       "  </tbody>\n",
       "</table>\n",
       "<p>13861 rows × 6 columns</p>\n",
       "</div>"
      ],
      "text/plain": [
       "       level_0  index                             name  elevation_ft  \\\n",
       "0            0  33627              Lake County Airport        9927.0   \n",
       "1            1  57082             Silver Heels Airport        9600.0   \n",
       "2            2  17558          True Grit South Airport        9580.0   \n",
       "4            4   2769                        Lux Field        9300.0   \n",
       "3            3  16054             Castle Lakes Airport        9300.0   \n",
       "...        ...    ...                              ...           ...   \n",
       "13856    13856  17262           Heritage Field Airport         -24.0   \n",
       "13857    13857  48152               Salton Sea Airport         -84.0   \n",
       "13858    13858  31997        Brawley Municipal Airport        -128.0   \n",
       "13859    13859  32120  Cliff Hatfield Memorial Airport        -182.0   \n",
       "13860    13860  33475            Furnace Creek Airport        -210.0   \n",
       "\n",
       "      iso_country           type  \n",
       "0              US  small_airport  \n",
       "1              US  small_airport  \n",
       "2              US  small_airport  \n",
       "4              US  small_airport  \n",
       "3              US  small_airport  \n",
       "...           ...            ...  \n",
       "13856          US  small_airport  \n",
       "13857          US  small_airport  \n",
       "13858          US  small_airport  \n",
       "13859          US  small_airport  \n",
       "13860          US  small_airport  \n",
       "\n",
       "[13861 rows x 6 columns]"
      ]
     },
     "execution_count": 29,
     "metadata": {},
     "output_type": "execute_result"
    }
   ],
   "source": [
    "levacion_US"
   ]
  },
  {
   "cell_type": "code",
   "execution_count": 37,
   "id": "8dd3356d",
   "metadata": {},
   "outputs": [
    {
     "data": {
      "image/png": "[encoded data removed]",
      "text/plain": [
       "<Figure size 432x288 with 1 Axes>"
      ]
     },
     "metadata": {
      "needs_background": "light"
     },
     "output_type": "display_data"
    }
   ],
   "source": [
    "#Histograma\n",
    "levacion_US['elevation_ft'].hist(alpha=0.7)\n",
    "levacion_MX['elevation_ft'].hist(alpha=0.7)\n",
    "plt.legend(['US', 'MX'])\n",
    "plt.show()"
   ]
  },
  {
   "cell_type": "code",
   "execution_count": null,
   "id": "cde0f295",
   "metadata": {},
   "outputs": [],
   "source": []
  }
 ],
 "metadata": {
  "kernelspec": {
   "display_name": "Python 3",
   "language": "python",
   "name": "python3"
  },
  "language_info": {
   "codemirror_mode": {
    "name": "ipython",
    "version": 3
   },
   "file_extension": ".py",
   "mimetype": "text/x-python",
   "name": "python",
   "nbconvert_exporter": "python",
   "pygments_lexer": "ipython3",
   "version": "3.8.8"
  }
 },
 "nbformat": 4,
 "nbformat_minor": 5
}
